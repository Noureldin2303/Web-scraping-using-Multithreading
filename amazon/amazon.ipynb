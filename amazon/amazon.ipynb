{
 "cells": [
  {
   "cell_type": "code",
   "execution_count": null,
   "metadata": {},
   "outputs": [],
   "source": [
    "import csv\n",
    "import requests\n",
    "import re\n",
    "import pandas as pd\n",
    "from selenium import webdriver\n",
    "from selenium.webdriver.common.keys import Keys\n",
    "from selenium.webdriver.common.by import By\n",
    "from selenium.webdriver.support.ui import WebDriverWait\n",
    "from selenium.webdriver.support import expected_conditions as EC\n",
    "from threading import Thread"
   ]
  },
  {
   "cell_type": "code",
   "execution_count": null,
   "metadata": {},
   "outputs": [],
   "source": [
    "# driver = webdriver.Edge()\n",
    "driver = webdriver.Chrome(r'your_driver_path\\chromedriver')\n",
    "driver.get('https://www.amazon.eg/s?i=fashion&fs=true&language=en')"
   ]
  },
  {
   "cell_type": "code",
   "execution_count": null,
   "metadata": {},
   "outputs": [],
   "source": [
    "# get the whole div that carrying all the details of the product\n",
    "wholeDiv = driver.find_element(By.XPATH,'//div[@class=\"s-card-container s-overflow-hidden aok-relative puis-expand-height puis-include-content-margin puis s-latency-cf-section s-card-border\"]')"
   ]
  },
  {
   "cell_type": "code",
   "execution_count": null,
   "metadata": {},
   "outputs": [],
   "source": [
    "# print properities of a single product\n",
    "print(wholeDiv.get_property('innerHTML'))"
   ]
  },
  {
   "cell_type": "code",
   "execution_count": 16,
   "metadata": {},
   "outputs": [],
   "source": [
    "import time\n",
    "def offload_images(i,j):\n",
    "    try:\n",
    "        img_data = requests.get(i).content\n",
    "        with open(f'images/{j}.jpg', 'wb') as handler:\n",
    "            handler.write(img_data)\n",
    "    except:\n",
    "        pass\n",
    "def element_finder(i,j):\n",
    "    global results\n",
    "    rating = None\n",
    "    txt = i.get_property('innerHTML')\n",
    "    y = re.search('\"([0-9.]+) out of 5 stars\"',txt)\n",
    "    if y:\n",
    "        rating = float(y.groups()[0])\n",
    "        \n",
    "    try:\n",
    "        price = float(i.find_element(By.CLASS_NAME, \"a-price-whole\").get_attribute('innerText')[:-2])\n",
    "    except:\n",
    "        price = None\n",
    "    name = i.find_element(By.CLASS_NAME, \"a-size-base-plus\").get_attribute('innerText')\n",
    "    # image\n",
    "    \n",
    "    img = i.find_element(By.CLASS_NAME, \"s-image\")\n",
    "    # download images into /images folder\n",
    "    try:\n",
    "        Thread(target=offload_images, args=(img.get_attribute('src'),j)).start()\n",
    "    except:\n",
    "        pass\n",
    "    # write data into csv file\n",
    "    results[j] =  [name,price,rating,f'images/{j}.jpg','Men','Accessories',name]\n",
    "with open('.\\File.csv', 'w',encoding='UTF-8',newline='') as csvfile:\n",
    "    csvwriter = csv.writer(csvfile, delimiter=',')\n",
    "    # header of the file\n",
    "    csvwriter.writerow(['Product Name','Price','Rating','Img Path','Category','Category Name','Description'])\n",
    "    j = 0\n",
    "    k = 1\n",
    "    \n",
    "    while True:\n",
    "        wholeDiv = driver.find_elements(By.XPATH,'//div[@class=\"s-card-container s-overflow-hidden aok-relative puis-expand-height puis-include-content-margin puis s-latency-cf-section s-card-border\"]')\n",
    "        results : dict[int, list]= {}\n",
    "        threads : list[Thread] = []\n",
    "        for i in wholeDiv:\n",
    "            # use threading with element_finder function to speed up the process\n",
    "            threads+=[Thread(target=element_finder, args=(i,j))]\n",
    "            j += 1\n",
    "        [thread.start() for thread in threads]\n",
    "        [thread.join() for thread in threads]\n",
    "        for x in results.keys():\n",
    "            csvwriter.writerow(results[x])\n",
    "        next = driver.find_element(By.CLASS_NAME, \"s-pagination-next\")\n",
    "        if next.get_attribute('aria-disabled'):\n",
    "            print(\"Ending!\")\n",
    "            break\n",
    "        next.click()\n",
    "        print(f\"Page {k} done\")\n",
    "        WebDriverWait(driver, 10).until(EC.presence_of_element_located((By.CLASS_NAME, 's-pagination-next')))\n",
    "        k+=1"
   ]
  }
 ],
 "metadata": {
  "kernelspec": {
   "display_name": "Python 3",
   "language": "python",
   "name": "python3"
  },
  "language_info": {
   "codemirror_mode": {
    "name": "ipython",
    "version": 3
   },
   "file_extension": ".py",
   "mimetype": "text/x-python",
   "name": "python",
   "nbconvert_exporter": "python",
   "pygments_lexer": "ipython3",
   "version": "3.11.0"
  },
  "orig_nbformat": 4,
  "vscode": {
   "interpreter": {
    "hash": "c261aea317cc0286b3b3261fbba9abdec21eaa57589985bb7a274bf54d6cc0a7"
   }
  }
 },
 "nbformat": 4,
 "nbformat_minor": 2
}
